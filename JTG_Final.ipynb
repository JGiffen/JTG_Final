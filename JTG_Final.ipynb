{
 "cells": [
  {
   "cell_type": "code",
   "execution_count": 26,
   "id": "fb66a861",
   "metadata": {},
   "outputs": [
    {
     "name": "stdout",
     "output_type": "stream",
     "text": [
      "Array Manipulation Example\n",
      "Enter the size of the array: 6\n",
      "\n",
      "Original Array:\n",
      "[4 5 6 9 2 2]\n",
      "\n",
      "Squared Array:\n",
      "[16 25 36 81  4  4]\n",
      "\n",
      "Cubed Array:\n",
      "[ 64 125 216 729   8   8]\n"
     ]
    }
   ],
   "source": [
    "import numpy as np\n",
    "def array_manipulation():\n",
    "    size = int(input(\"Enter the size of the array: \"))\n",
    "    array = np.random.randint(1, 10, size)\n",
    "    print(\"\\nOriginal Array:\")\n",
    "    print(array)\n",
    "    # Square and Cube each element in the array\n",
    "    squared_array = np.square(array)\n",
    "    print(\"\\nSquared Array:\")\n",
    "    print(squared_array)\n",
    "    cubed_array = np.power(array,3)\n",
    "    print(\"\\nCubed Array:\")\n",
    "    print(cubed_array)\n",
    "print(\"Array Manipulation Example\")\n",
    "array_manipulation()"
   ]
  },
  {
   "cell_type": "code",
   "execution_count": 25,
   "id": "2ad8c063",
   "metadata": {},
   "outputs": [
    {
     "name": "stdout",
     "output_type": "stream",
     "text": [
      "Numerical Operations Example\n",
      "\n",
      "Generated Data:\n",
      "[34 57 34 20 16 75 72 28 72 77]\n",
      "\n",
      "Mean: 48.5\n",
      "Standard Deviation: 23.23897588104949\n"
     ]
    }
   ],
   "source": [
    "import numpy as np\n",
    "def numerical_operations():\n",
    "    data = np.random.randint(1, 100, 10)\n",
    "    print(\"\\nGenerated Data:\")\n",
    "    print(data)\n",
    "    # Calculate mean and standard deviation\n",
    "    mean_value = np.mean(data)\n",
    "    std_dev = np.std(data)\n",
    "    print(\"\\nMean:\", mean_value)\n",
    "    print(\"Standard Deviation:\", std_dev)\n",
    "print(\"Numerical Operations Example\")\n",
    "numerical_operations()"
   ]
  },
  {
   "cell_type": "code",
   "execution_count": 24,
   "id": "07ad9704",
   "metadata": {},
   "outputs": [
    {
     "name": "stdout",
     "output_type": "stream",
     "text": [
      "Linear Algebra Operations Example\n",
      "Enter the size of the square matrix: 5\n",
      "\n",
      "Generated Matrix:\n",
      "[[2 5 1 1 7]\n",
      " [8 9 8 5 1]\n",
      " [8 4 5 5 1]\n",
      " [1 6 1 5 7]\n",
      " [6 5 6 5 6]]\n",
      "\n",
      "Determinant: 3976.999999999997\n",
      "Inverse Matrix:\n",
      "[[ 0.17852653 -0.08599447  0.27382449 -0.09630375 -0.12723158]\n",
      " [ 0.08674881  0.14131255 -0.02891627  0.05883832 -0.18858436]\n",
      " [-0.14458134  0.09781242 -0.28513955 -0.09806387  0.31430727]\n",
      " [-0.22705557 -0.05682675  0.07568519  0.21121448  0.01533819]\n",
      " [ 0.08297712 -0.08222278 -0.02765904 -0.03067639  0.12396279]]\n"
     ]
    }
   ],
   "source": [
    "import numpy as np\n",
    "def linear_algebra_operations():\n",
    "    size = int(input(\"Enter the size of the square matrix: \"))\n",
    "    matrix = np.random.randint(1, 10, (size, size))\n",
    "    print(\"\\nGenerated Matrix:\")\n",
    "    print(matrix)\n",
    "    # Calculate determinant and inverse of the matrix\n",
    "    det = np.linalg.det(matrix)\n",
    "    inverse_matrix = np.linalg.inv(matrix)\n",
    "    print(\"\\nDeterminant:\", det)\n",
    "    print(\"Inverse Matrix:\")\n",
    "    print(inverse_matrix)\n",
    "print(\"Linear Algebra Operations Example\")\n",
    "linear_algebra_operations()"
   ]
  },
  {
   "cell_type": "code",
   "execution_count": null,
   "id": "8cacf317",
   "metadata": {},
   "outputs": [],
   "source": []
  }
 ],
 "metadata": {
  "kernelspec": {
   "display_name": "Python 3 (ipykernel)",
   "language": "python",
   "name": "python3"
  },
  "language_info": {
   "codemirror_mode": {
    "name": "ipython",
    "version": 3
   },
   "file_extension": ".py",
   "mimetype": "text/x-python",
   "name": "python",
   "nbconvert_exporter": "python",
   "pygments_lexer": "ipython3",
   "version": "3.11.4"
  }
 },
 "nbformat": 4,
 "nbformat_minor": 5
}
